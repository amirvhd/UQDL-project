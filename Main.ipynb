{
 "cells": [
  {
   "cell_type": "code",
   "execution_count": 1,
   "outputs": [
    {
     "name": "stdout",
     "output_type": "stream",
     "text": [
      ">> clustergrammer2 backend version 0.18.0\n"
     ]
    }
   ],
   "source": [
    "import torch.distributions as dist\n",
    "from Model import classification\n",
    "import torch\n",
    "from torchvision import datasets, transforms\n",
    "from torch.utils.data import DataLoader\n",
    "import matplotlib.pyplot as plt\n",
    "from bnn import bayesianize\n",
    "import numpy as np\n",
    "%matplotlib inline\n",
    "import seaborn as sns\n",
    "from functools import reduce\n",
    "from clustergrammer2 import net\n",
    "import pandas as pd"
   ],
   "metadata": {
    "collapsed": false,
    "pycharm": {
     "name": "#%%\n"
    }
   }
  },
  {
   "cell_type": "code",
   "execution_count": 2,
   "outputs": [],
   "source": [
    "#Hyperparameter are based on table 4 of the paper\n",
    "batch_size=64\n",
    "train_dataset = datasets.FashionMNIST('FashionMNIST-data/', train=True, download=True, transform=transforms.Compose([transforms.ToTensor(),transforms.Normalize((0,), (1,),)]))\n",
    "train_loader = torch.utils.data.DataLoader(train_dataset,\n",
    "        batch_size, shuffle=True)\n",
    "test_dataset = datasets.FashionMNIST('FashionMNIST-data/', train=False, download=True,\n",
    "                       transform=transforms.Compose([transforms.ToTensor(),transforms.Normalize((0,), (1,),)]))\n",
    "test_loader = torch.utils.data.DataLoader(test_dataset,\n",
    "        batch_size, shuffle=True)\n"
   ],
   "metadata": {
    "collapsed": false,
    "pycharm": {
     "name": "#%%\n"
    }
   }
  },
  {
   "cell_type": "code",
   "execution_count": 3,
   "outputs": [],
   "source": [
    "#layer_size = number of hidden layers except the first and last layer\n",
    "model_1 = classification(layer_size = 1, activation=False)\n",
    "model_2 = classification(layer_size = 4, activation=False)\n",
    "model_3 = classification(layer_size = 9, activation=False)\n"
   ],
   "metadata": {
    "collapsed": false,
    "pycharm": {
     "name": "#%%\n"
    }
   }
  },
  {
   "cell_type": "code",
   "execution_count": 4,
   "outputs": [
    {
     "name": "stdout",
     "output_type": "stream",
     "text": [
      "classification(\n",
      "  (layers): ModuleList(\n",
      "    (0): FFGLinear(in_features=784, out_features=16, bias=True, prior mean=0.00, prior sd=1.00)\n",
      "    (1): FFGLinear(in_features=16, out_features=16, bias=True, prior mean=0.00, prior sd=1.00)\n",
      "    (2): FFGLinear(in_features=16, out_features=16, bias=True, prior mean=0.00, prior sd=1.00)\n",
      "    (3): FFGLinear(in_features=16, out_features=16, bias=True, prior mean=0.00, prior sd=1.00)\n",
      "    (4): FFGLinear(in_features=16, out_features=16, bias=True, prior mean=0.00, prior sd=1.00)\n",
      "    (5): FFGLinear(in_features=16, out_features=16, bias=True, prior mean=0.00, prior sd=1.00)\n",
      "    (6): FFGLinear(in_features=16, out_features=16, bias=True, prior mean=0.00, prior sd=1.00)\n",
      "    (7): FFGLinear(in_features=16, out_features=16, bias=True, prior mean=0.00, prior sd=1.00)\n",
      "    (8): FFGLinear(in_features=16, out_features=16, bias=True, prior mean=0.00, prior sd=1.00)\n",
      "  )\n",
      "  (out): FFGLinear(in_features=16, out_features=10, bias=True, prior mean=0.00, prior sd=1.00)\n",
      ")\n"
     ]
    }
   ],
   "source": [
    "#You can find more information about bayesianize from https://github.com/microsoft/bayesianize\n",
    "#Transforming the model to bayesian version of it\n",
    "#To change the inference in the layers you should restart the kernel first\n",
    "#For Mean field variational \"ffg\" should be used for inference,\n",
    "#For full covariance variational \"fcg\" should be used for inference,\n",
    "#choose your model between 5 different models\n",
    "bayesianize.bayesianize_(model_3,inference=  \"ffg\")\n",
    "print(model_3)\n",
    "model = model_3"
   ],
   "metadata": {
    "collapsed": false,
    "pycharm": {
     "name": "#%%\n"
    }
   }
  },
  {
   "cell_type": "code",
   "execution_count": 5,
   "outputs": [],
   "source": [
    "optimizer = torch.optim.Adam(model.parameters(), lr=1e-4, weight_decay=0.0008)\n",
    "#criterion = torch.nn.CrossEntropyLoss()"
   ],
   "metadata": {
    "collapsed": false,
    "pycharm": {
     "name": "#%%\n"
    }
   }
  },
  {
   "cell_type": "code",
   "execution_count": 6,
   "outputs": [
    {
     "name": "stdout",
     "output_type": "stream",
     "text": [
      "tensor(0.4688)\n",
      "tensor(0.5660)\n",
      "tensor(0.6508)\n",
      "tensor(0.6823)\n",
      "tensor(0.6879)\n",
      "tensor(0.7075)\n",
      "tensor(0.7182)\n",
      "tensor(0.7244)\n",
      "tensor(0.7274)\n",
      "tensor(0.7284)\n"
     ]
    }
   ],
   "source": [
    "#variational test/train samples = 16\n",
    "kl_factor = 0.1\n",
    "epochs = 10\n",
    "for epoch in range(epochs):\n",
    "    top1_train_accuracy = 0\n",
    "    for counter, (x_batch, y_batch) in enumerate(train_loader):\n",
    "        optimizer.zero_grad()\n",
    "        for k in range(16):\n",
    "            yhat = model(x_batch)\n",
    "            nll = -dist.Categorical(logits=yhat).log_prob(y_batch).mean() / 16\n",
    "            if k == 0:\n",
    "                kl = torch.tensor(0.)\n",
    "                for module in model.modules():\n",
    "                    if hasattr(module, \"parameter_loss\"):\n",
    "                        kl = kl + module.parameter_loss().sum()\n",
    "                loss = nll + kl * kl_factor / len(train_dataset)\n",
    "            else:\n",
    "                loss = nll\n",
    "            loss.backward()\n",
    "        optimizer.step()\n",
    "    model.eval()\n",
    "    c=0\n",
    "    with torch.no_grad():\n",
    "        probs, targets = map(torch.cat, zip(*(\n",
    "            (sum(model(x).softmax(-1) for _ in range(16)).div(16), y)\n",
    "            for x, y in iter(test_loader)\n",
    "        )))\n",
    "    label_pred = np.argmax(probs, axis=1)\n",
    "    correct = sum(label_pred == targets)\n",
    "    accuracy = correct / len(targets)\n",
    "    print(accuracy)\n",
    "    #print(list(model.named_parameters()))"
   ],
   "metadata": {
    "collapsed": false,
    "pycharm": {
     "name": "#%%\n"
    }
   }
  },
  {
   "cell_type": "code",
   "execution_count": 7,
   "outputs": [],
   "source": [
    "PATH = './Models/model_3_net.pth'\n",
    "torch.save(model,PATH)"
   ],
   "metadata": {
    "collapsed": false,
    "pycharm": {
     "name": "#%%\n"
    }
   }
  },
  {
   "cell_type": "code",
   "execution_count": 10,
   "outputs": [],
   "source": [
    "PATH = './Models/model_3_net.pth'\n",
    "model = torch.load(PATH)"
   ],
   "metadata": {
    "collapsed": false,
    "pycharm": {
     "name": "#%%\n"
    }
   }
  },
  {
   "cell_type": "code",
   "execution_count": 80,
   "outputs": [],
   "source": [
    "weights = dict()\n",
    "for name, para in model.named_parameters():\n",
    "    weights[name] = para"
   ],
   "metadata": {
    "collapsed": false,
    "pycharm": {
     "name": "#%%\n"
    }
   }
  },
  {
   "cell_type": "code",
   "execution_count": 4,
   "outputs": [],
   "source": [
    "def sampling(mean,sd):\n",
    "    shape = mean.shape\n",
    "    mean = np.matrix.flatten(mean)\n",
    "    sd = np.matrix.flatten(sd)\n",
    "    results = []\n",
    "    for i in range(len(mean)):\n",
    "        results.append(np.random.normal(mean[i],abs(sd[i])))\n",
    "    results = np.reshape(results,shape)\n",
    "    return results"
   ],
   "metadata": {
    "collapsed": false,
    "pycharm": {
     "name": "#%%\n"
    }
   }
  },
  {
   "cell_type": "code",
   "execution_count": 85,
   "outputs": [],
   "source": [
    "#Run thi part for model 1\n",
    "weights_samples = []\n",
    "for i in range(10000):\n",
    "    out_layer = sampling(weights[\"out.weight_mean\"].detach().numpy(),weights[\"out._weight_sd\"].detach().numpy())\n",
    "    first_layer = sampling(weights[\"layers.0.weight_mean\"].detach().numpy(),weights[\"layers.0._weight_sd\"].detach().numpy())\n",
    "    product = reduce(np.matmul,(out_layer,\n",
    "                      first_layer))\n",
    "    weights_samples.append(np.matrix.flatten(product))\n"
   ],
   "metadata": {
    "collapsed": false,
    "pycharm": {
     "name": "#%%\n"
    }
   }
  },
  {
   "cell_type": "code",
   "execution_count": null,
   "outputs": [],
   "source": [
    "#Run thi part for model 2\n",
    "weights_samples = []\n",
    "for i in range(10000):\n",
    "    out_layer = sampling(weights[\"out.weight_mean\"].detach().numpy(),weights[\"out._weight_sd\"].detach().numpy())\n",
    "    fourth_layer = sampling(weights[\"layers.3.weight_mean\"].detach().numpy(),weights[\"layers.3._weight_sd\"].detach().numpy())\n",
    "    third_layer = sampling(weights[\"layers.2.weight_mean\"].detach().numpy(),weights[\"layers.2._weight_sd\"].detach().numpy())\n",
    "    second_layer = sampling(weights[\"layers.1.weight_mean\"].detach().numpy(),weights[\"layers.1._weight_sd\"].detach().numpy())\n",
    "    first_layer = sampling(weights[\"layers.0.weight_mean\"].detach().numpy(),weights[\"layers.0._weight_sd\"].detach().numpy())\n",
    "    product = reduce(np.matmul,(out_layer,\n",
    "                                fourth_layer,\n",
    "                                third_layer,\n",
    "                                second_layer,\n",
    "                      first_layer))\n",
    "    weights_samples.append(np.matrix.flatten(product))"
   ],
   "metadata": {
    "collapsed": false,
    "pycharm": {
     "name": "#%%\n"
    }
   }
  },
  {
   "cell_type": "code",
   "execution_count": 75,
   "outputs": [],
   "source": [
    "#Run thi part for model 3\n",
    "weights_samples = []\n",
    "for i in range(10000):\n",
    "    out_layer = sampling(weights[\"out.weight_mean\"].detach().numpy(),weights[\"out._weight_sd\"].detach().numpy())\n",
    "    ninth_layer = sampling(weights[\"layers.8.weight_mean\"].detach().numpy(),weights[\"layers.8._weight_sd\"].detach().numpy())\n",
    "    eighth_layer = sampling(weights[\"layers.7.weight_mean\"].detach().numpy(),weights[\"layers.7._weight_sd\"].detach().numpy())\n",
    "    seventh_layer = sampling(weights[\"layers.6.weight_mean\"].detach().numpy(),weights[\"layers.6._weight_sd\"].detach().numpy())\n",
    "    sixth_layer = sampling(weights[\"layers.5.weight_mean\"].detach().numpy(),weights[\"layers.5._weight_sd\"].detach().numpy())\n",
    "    fifth_layer = sampling(weights[\"layers.4.weight_mean\"].detach().numpy(),weights[\"layers.4._weight_sd\"].detach().numpy())\n",
    "    fourth_layer = sampling(weights[\"layers.3.weight_mean\"].detach().numpy(),weights[\"layers.3._weight_sd\"].detach().numpy())\n",
    "    third_layer = sampling(weights[\"layers.2.weight_mean\"].detach().numpy(),weights[\"layers.2._weight_sd\"].detach().numpy())\n",
    "    second_layer = sampling(weights[\"layers.1.weight_mean\"].detach().numpy(),weights[\"layers.1._weight_sd\"].detach().numpy())\n",
    "    first_layer = sampling(weights[\"layers.0.weight_mean\"].detach().numpy(),weights[\"layers.0._weight_sd\"].detach().numpy())\n",
    "    product = reduce(np.matmul,(out_layer,\n",
    "                                ninth_layer,\n",
    "                                eighth_layer,\n",
    "                                seventh_layer,\n",
    "                                sixth_layer,\n",
    "                                fifth_layer,\n",
    "                                fourth_layer,\n",
    "                                third_layer,\n",
    "                                second_layer,\n",
    "                      first_layer))\n",
    "    weights_samples.append(np.matrix.flatten(product))"
   ],
   "metadata": {
    "collapsed": false,
    "pycharm": {
     "name": "#%%\n"
    }
   }
  },
  {
   "cell_type": "code",
   "execution_count": 86,
   "outputs": [],
   "source": [
    "covariance = np.cov(np.transpose(np.array(weights_samples)))"
   ],
   "metadata": {
    "collapsed": false,
    "pycharm": {
     "name": "#%%\n"
    }
   }
  },
  {
   "cell_type": "code",
   "execution_count": 87,
   "outputs": [],
   "source": [
    "np.save('cov_3',covariance)"
   ],
   "metadata": {
    "collapsed": false,
    "pycharm": {
     "name": "#%%\n"
    }
   }
  },
  {
   "cell_type": "code",
   "execution_count": 9,
   "outputs": [],
   "source": [
    "k1 = np.load(\"Covariance_matrices/cov_1.npy\")\n",
    "k2 = np.load(\"Covariance_matrices/cov_2.npy\")\n",
    "k3 = np.load(\"Covariance_matrices/cov_3.npy\")"
   ],
   "metadata": {
    "collapsed": false,
    "pycharm": {
     "name": "#%%\n"
    }
   }
  },
  {
   "cell_type": "code",
   "execution_count": 7,
   "outputs": [
    {
     "data": {
      "text/plain": "<Figure size 432x288 with 3 Axes>",
      "image/png": "[encoded data removed]"
     },
     "metadata": {
      "needs_background": "light"
     },
     "output_type": "display_data"
    }
   ],
   "source": [
    "fig, axs = plt.subplots(1, 3)\n",
    "#fig.suptitle('Covariance matrix heatmap')\n",
    "axs[0].imshow(k1,cmap=\"tab20\", interpolation='nearest')\n",
    "axs[0].set_title('1 Layer')\n",
    "axs[0].set_axis_off()\n",
    "axs[1].imshow(k2,cmap=\"tab20\", interpolation='nearest')\n",
    "axs[1].set_title('5 layer')\n",
    "axs[1].set_axis_off()\n",
    "axs[2].imshow(k3,cmap=\"tab20\", interpolation='nearest')\n",
    "axs[2].set_title('10 layer')\n",
    "axs[2].set_axis_off()\n",
    "plt.savefig('linear.png', bbox_inches='tight', pad_inches = 0)\n",
    "\n",
    "\n"
   ],
   "metadata": {
    "collapsed": false,
    "pycharm": {
     "name": "#%%\n"
    }
   }
  }
 ],
 "metadata": {
  "kernelspec": {
   "display_name": "Python 3",
   "language": "python",
   "name": "python3"
  },
  "language_info": {
   "codemirror_mode": {
    "name": "ipython",
    "version": 2
   },
   "file_extension": ".py",
   "mimetype": "text/x-python",
   "name": "python",
   "nbconvert_exporter": "python",
   "pygments_lexer": "ipython2",
   "version": "2.7.6"
  }
 },
 "nbformat": 4,
 "nbformat_minor": 0
}