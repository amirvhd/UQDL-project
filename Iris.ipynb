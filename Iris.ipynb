{
 "cells": [
  {
   "cell_type": "code",
   "execution_count": 2,
   "metadata": {
    "collapsed": true
   },
   "outputs": [],
   "source": [
    "import numpy as np\n",
    "from sklearn.datasets import load_iris\n",
    "from bnn import bayesianize\n",
    "from Model_iris import classification\n",
    "import torch\n",
    "import torch.nn as nn\n",
    "import matplotlib.pyplot as plt\n",
    "import torch.distributions as dist\n",
    "from torch.utils.data import random_split, DataLoader, TensorDataset\n",
    "%matplotlib inline"
   ]
  },
  {
   "cell_type": "code",
   "execution_count": 146,
   "outputs": [
    {
     "data": {
      "text/plain": "<torch._C.Generator at 0x208cc38cbf0>"
     },
     "execution_count": 146,
     "metadata": {},
     "output_type": "execute_result"
    }
   ],
   "source": [
    "#Hyperparameter are based on table 5 of the paper\n",
    "features, labels = load_iris(return_X_y=True)\n",
    "features, labels = torch.from_numpy(features).float(), torch.from_numpy(labels).long()\n",
    "data = TensorDataset(features, labels)    # Create a torch.utils.data.TensorDataset object for further data manipulation\n",
    "train_set, test_set = random_split(\n",
    "    data, [100, 50])\n",
    "train_loader = DataLoader(train_set, batch_size = 16, shuffle = True)\n",
    "test_loader = DataLoader(test_set, batch_size = 16)\n",
    "torch.manual_seed(0)"
   ],
   "metadata": {
    "collapsed": false,
    "pycharm": {
     "name": "#%%\n"
    }
   }
  },
  {
   "cell_type": "code",
   "execution_count": 147,
   "outputs": [],
   "source": [
    "#layer_size = number of hidden layers except the first and last layer\n",
    "model_1_ffg = classification(layer_size = 2, activation=False)\n",
    "model_2_ffg = classification(layer_size = 3, activation=False)\n",
    "model_3_ffg = classification(layer_size = 4, activation=False)\n",
    "model_4_ffg = classification(layer_size = 5, activation=False)\n",
    "model_1_fcg = classification(layer_size = 2, activation=False)\n",
    "model_2_fcg = classification(layer_size = 3, activation=False)\n",
    "model_3_fcg = classification(layer_size = 4, activation=False)\n",
    "model_4_fcg = classification(layer_size = 5, activation=False)\n"
   ],
   "metadata": {
    "collapsed": false,
    "pycharm": {
     "name": "#%%\n"
    }
   }
  },
  {
   "cell_type": "code",
   "execution_count": 157,
   "outputs": [
    {
     "name": "stdout",
     "output_type": "stream",
     "text": [
      "classification(\n",
      "  (layers): ModuleList(\n",
      "    (0): FFGLinear(in_features=4, out_features=4, bias=True, prior mean=0.00, prior sd=1.00)\n",
      "    (1): FFGLinear(in_features=4, out_features=4, bias=True, prior mean=0.00, prior sd=1.00)\n",
      "  )\n",
      "  (out): FFGLinear(in_features=4, out_features=3, bias=True, prior mean=0.00, prior sd=1.00)\n",
      ")\n"
     ]
    }
   ],
   "source": [
    "#You can find more information about bayesianize from https://github.com/microsoft/bayesianize\n",
    "#Transforming the model to bayesian version of it\n",
    "#To change the inference in the layers you should restart the kernel first\n",
    "#For Mean field variational \"ffg\" should be used for inference,\n",
    "#For full covariance variational \"fcg\" should be used for inference,\n",
    "#choose your model between 5 different models\n",
    "bayesianize.bayesianize_(model_1_ffg,inference=  \"ffg\")\n",
    "print(model_1_ffg)\n",
    "model = model_1_ffg"
   ],
   "metadata": {
    "collapsed": false,
    "pycharm": {
     "name": "#%%\n"
    }
   }
  },
  {
   "cell_type": "code",
   "execution_count": 34,
   "outputs": [],
   "source": [
    "optimizer = torch.optim.Adam(model.parameters(), lr=1e-3, betas=(0.9, 0.99), eps=1e-8, amsgrad=True)\n",
    "results = []"
   ],
   "metadata": {
    "collapsed": false,
    "pycharm": {
     "name": "#%%\n"
    }
   }
  },
  {
   "cell_type": "code",
   "execution_count": 158,
   "outputs": [
    {
     "name": "stdout",
     "output_type": "stream",
     "text": [
      "1.1170182\n"
     ]
    }
   ],
   "source": [
    "#variational test/train samples = 1\n",
    "kl_factor = 0.1\n",
    "epochs = 1000\n",
    "accuracy = []\n",
    "ce = []\n",
    "best_model = None\n",
    "best_accuracy = 0\n",
    "cr = nn.CrossEntropyLoss()\n",
    "for epoch in range(epochs):\n",
    "    for counter, (x_batch, y_batch) in enumerate(train_loader):\n",
    "        optimizer.zero_grad()\n",
    "        for k in range(1):\n",
    "            yhat = model(x_batch)\n",
    "            nll = -dist.Categorical(logits=yhat).log_prob(y_batch).mean() /1\n",
    "            if k == 0:\n",
    "                kl = torch.tensor(0.)\n",
    "                for module in model.modules():\n",
    "                    if hasattr(module, \"parameter_loss\"):\n",
    "                        kl = kl + module.parameter_loss().sum()\n",
    "                loss = nll + kl * kl_factor/ 100\n",
    "            else:\n",
    "                loss = nll\n",
    "            loss.backward()\n",
    "        optimizer.step()\n",
    "    model.eval()\n",
    "    a=0\n",
    "    with torch.no_grad():\n",
    "        probs, targets = map(torch.cat, zip(*(\n",
    "            (sum(model(x).softmax(-1) for _ in range(1)).div(1), y)\n",
    "            for x, y in iter(test_loader)\n",
    "        )))\n",
    "    ce.append(cr(probs,targets).numpy())\n",
    "'''\n",
    "    label_pred = np.argmax(probs, axis=1)\n",
    "    correct = sum(label_pred == targets)\n",
    "    a = (correct / len(targets))\n",
    "    accuracy.append(a)\n",
    "    if a == np.max(accuracy):\n",
    "        best_accuracy = a\n",
    "        best_model = model\n",
    "print(best_accuracy)\n",
    "'''\n",
    "print(np.min(ce))"
   ],
   "metadata": {
    "collapsed": false,
    "pycharm": {
     "name": "#%%\n"
    }
   }
  },
  {
   "cell_type": "code",
   "execution_count": null,
   "outputs": [],
   "source": [
    "results.append(np.min(ce))"
   ],
   "metadata": {
    "collapsed": false,
    "pycharm": {
     "name": "#%%\n"
    }
   }
  },
  {
   "cell_type": "code",
   "execution_count": 150,
   "outputs": [],
   "source": [
    "r=np.array(results)"
   ],
   "metadata": {
    "collapsed": false,
    "pycharm": {
     "name": "#%%\n"
    }
   }
  },
  {
   "cell_type": "code",
   "execution_count": 159,
   "outputs": [],
   "source": [
    "r=np.reshape(r,(5,8))\n",
    "np.save('results',r)"
   ],
   "metadata": {
    "collapsed": false,
    "pycharm": {
     "name": "#%%\n"
    }
   }
  },
  {
   "cell_type": "code",
   "execution_count": null,
   "outputs": [],
   "source": [
    "r = np.load(\"results.npy\")"
   ],
   "metadata": {
    "collapsed": false,
    "pycharm": {
     "name": "#%%\n"
    }
   }
  },
  {
   "cell_type": "code",
   "execution_count": 160,
   "outputs": [],
   "source": [
    "mean_r=np.mean(r,axis=0)"
   ],
   "metadata": {
    "collapsed": false,
    "pycharm": {
     "name": "#%%\n"
    }
   }
  },
  {
   "cell_type": "code",
   "execution_count": 173,
   "outputs": [
    {
     "data": {
      "text/plain": "<Figure size 432x288 with 1 Axes>",
      "image/png": "[encoded data removed]"
     },
     "metadata": {
      "needs_background": "light"
     },
     "output_type": "display_data"
    }
   ],
   "source": [
    "x=[1,2,3,4]\n",
    "plt.plot(x,mean_r[0:4],label= \"MFVI\")\n",
    "plt.plot(x,mean_r[4:8],'g',label= \"Full covariance\")\n",
    "plt.xticks([1, 2, 3, 4])\n",
    "plt.yticks([1.110,1.120, 1.130, 1.140])\n",
    "plt.xlabel(\"Number of hidden layers\")\n",
    "plt.ylabel(\"Test cross-entropy loss\")\n",
    "plt.legend()\n",
    "plt.savefig('figure.png')"
   ],
   "metadata": {
    "collapsed": false,
    "pycharm": {
     "name": "#%%\n"
    }
   }
  }
 ],
 "metadata": {
  "kernelspec": {
   "display_name": "Python 3",
   "language": "python",
   "name": "python3"
  },
  "language_info": {
   "codemirror_mode": {
    "name": "ipython",
    "version": 2
   },
   "file_extension": ".py",
   "mimetype": "text/x-python",
   "name": "python",
   "nbconvert_exporter": "python",
   "pygments_lexer": "ipython2",
   "version": "2.7.6"
  }
 },
 "nbformat": 4,
 "nbformat_minor": 0
}